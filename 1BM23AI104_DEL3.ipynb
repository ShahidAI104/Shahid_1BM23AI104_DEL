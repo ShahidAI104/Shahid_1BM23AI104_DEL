{
 "cells": [
  {
   "cell_type": "code",
   "execution_count": 1,
   "id": "6e912fcb",
   "metadata": {},
   "outputs": [
    {
     "name": "stdout",
     "output_type": "stream",
     "text": [
      "WARNING:tensorflow:From C:\\Users\\Admin\\anaconda3\\Lib\\site-packages\\keras\\src\\losses.py:2976: The name tf.losses.sparse_softmax_cross_entropy is deprecated. Please use tf.compat.v1.losses.sparse_softmax_cross_entropy instead.\n",
      "\n"
     ]
    },
    {
     "data": {
      "text/html": [
       "<div>\n",
       "<style scoped>\n",
       "    .dataframe tbody tr th:only-of-type {\n",
       "        vertical-align: middle;\n",
       "    }\n",
       "\n",
       "    .dataframe tbody tr th {\n",
       "        vertical-align: top;\n",
       "    }\n",
       "\n",
       "    .dataframe thead th {\n",
       "        text-align: right;\n",
       "    }\n",
       "</style>\n",
       "<table border=\"1\" class=\"dataframe\">\n",
       "  <thead>\n",
       "    <tr style=\"text-align: right;\">\n",
       "      <th></th>\n",
       "      <th>sepal length (cm)</th>\n",
       "      <th>sepal width (cm)</th>\n",
       "      <th>petal length (cm)</th>\n",
       "      <th>petal width (cm)</th>\n",
       "      <th>target</th>\n",
       "    </tr>\n",
       "  </thead>\n",
       "  <tbody>\n",
       "    <tr>\n",
       "      <th>0</th>\n",
       "      <td>5.1</td>\n",
       "      <td>3.5</td>\n",
       "      <td>1.4</td>\n",
       "      <td>0.2</td>\n",
       "      <td>0</td>\n",
       "    </tr>\n",
       "    <tr>\n",
       "      <th>1</th>\n",
       "      <td>4.9</td>\n",
       "      <td>3.0</td>\n",
       "      <td>1.4</td>\n",
       "      <td>0.2</td>\n",
       "      <td>0</td>\n",
       "    </tr>\n",
       "    <tr>\n",
       "      <th>2</th>\n",
       "      <td>4.7</td>\n",
       "      <td>3.2</td>\n",
       "      <td>1.3</td>\n",
       "      <td>0.2</td>\n",
       "      <td>0</td>\n",
       "    </tr>\n",
       "    <tr>\n",
       "      <th>3</th>\n",
       "      <td>4.6</td>\n",
       "      <td>3.1</td>\n",
       "      <td>1.5</td>\n",
       "      <td>0.2</td>\n",
       "      <td>0</td>\n",
       "    </tr>\n",
       "    <tr>\n",
       "      <th>4</th>\n",
       "      <td>5.0</td>\n",
       "      <td>3.6</td>\n",
       "      <td>1.4</td>\n",
       "      <td>0.2</td>\n",
       "      <td>0</td>\n",
       "    </tr>\n",
       "  </tbody>\n",
       "</table>\n",
       "</div>"
      ],
      "text/plain": [
       "   sepal length (cm)  sepal width (cm)  petal length (cm)  petal width (cm)  \\\n",
       "0                5.1               3.5                1.4               0.2   \n",
       "1                4.9               3.0                1.4               0.2   \n",
       "2                4.7               3.2                1.3               0.2   \n",
       "3                4.6               3.1                1.5               0.2   \n",
       "4                5.0               3.6                1.4               0.2   \n",
       "\n",
       "   target  \n",
       "0       0  \n",
       "1       0  \n",
       "2       0  \n",
       "3       0  \n",
       "4       0  "
      ]
     },
     "execution_count": 1,
     "metadata": {},
     "output_type": "execute_result"
    }
   ],
   "source": [
    "import numpy as np\n",
    "import pandas as pd\n",
    "from sklearn.datasets import load_iris\n",
    "from sklearn.preprocessing import StandardScaler\n",
    "from sklearn.model_selection import train_test_split\n",
    "import tensorflow as tf\n",
    "import matplotlib.pyplot as plt\n",
    "\n",
    "iris = load_iris()\n",
    "\n",
    "data_df = pd.DataFrame(data=iris.data,columns = iris.feature_names)\n",
    "target_df = pd.DataFrame(data = iris.target, columns = ['target'])\n",
    "df = pd.concat([data_df,target_df],axis=1)\n",
    "df.head()"
   ]
  },
  {
   "cell_type": "code",
   "execution_count": 2,
   "id": "20ac9517",
   "metadata": {},
   "outputs": [],
   "source": [
    "#!pip install tensorflow"
   ]
  },
  {
   "cell_type": "code",
   "execution_count": 3,
   "id": "5f29ca70",
   "metadata": {},
   "outputs": [],
   "source": [
    "x,y = df.drop('target',axis=1),df['target']\n",
    "xtrain,xtest,ytrain,ytest = train_test_split(x,y,test_size = 0.2,random_state = 42)"
   ]
  },
  {
   "cell_type": "code",
   "execution_count": 4,
   "id": "3ada8e08",
   "metadata": {},
   "outputs": [],
   "source": [
    "s = StandardScaler()\n",
    "xtrains = s.fit_transform(xtrain)\n",
    "xtests = s.fit_transform(xtest)\n",
    "#ytrains = s.fit_transform(ytrain)\n",
    "#ytests = s.fit_transform(ytest)"
   ]
  },
  {
   "cell_type": "code",
   "execution_count": 5,
   "id": "7facd107",
   "metadata": {},
   "outputs": [
    {
     "name": "stdout",
     "output_type": "stream",
     "text": [
      "Python 3.11.3\n",
      "2.15.0\n"
     ]
    }
   ],
   "source": [
    "!python --version\n",
    "print(tf.__version__)"
   ]
  },
  {
   "cell_type": "code",
   "execution_count": 6,
   "id": "c75d98bc",
   "metadata": {},
   "outputs": [
    {
     "name": "stdout",
     "output_type": "stream",
     "text": [
      "WARNING:tensorflow:From C:\\Users\\Admin\\anaconda3\\Lib\\site-packages\\keras\\src\\backend.py:1398: The name tf.executing_eagerly_outside_functions is deprecated. Please use tf.compat.v1.executing_eagerly_outside_functions instead.\n",
      "\n"
     ]
    }
   ],
   "source": [
    "dnn = tf.keras.Sequential([\n",
    "    tf.keras.layers.Input(shape = (xtrains.shape[1],)),\n",
    "    tf.keras.layers.Dense(64,activation = 'relu'),\n",
    "    tf.keras.layers.Dense(32,activation = 'relu'),\n",
    "    tf.keras.layers.Dense(16,activation = 'relu'),\n",
    "    tf.keras.layers.Dense(3,activation = 'softmax')])"
   ]
  },
  {
   "cell_type": "code",
   "execution_count": 7,
   "id": "97038453",
   "metadata": {},
   "outputs": [
    {
     "name": "stdout",
     "output_type": "stream",
     "text": [
      "WARNING:tensorflow:From C:\\Users\\Admin\\anaconda3\\Lib\\site-packages\\keras\\src\\optimizers\\__init__.py:309: The name tf.train.Optimizer is deprecated. Please use tf.compat.v1.train.Optimizer instead.\n",
      "\n"
     ]
    }
   ],
   "source": [
    "dnn.compile(optimizer='adam',loss='sparse_categorical_crossentropy',metrics=['accuracy'])"
   ]
  },
  {
   "cell_type": "code",
   "execution_count": 8,
   "id": "069738e6",
   "metadata": {},
   "outputs": [
    {
     "name": "stdout",
     "output_type": "stream",
     "text": [
      "Epoch 1/50\n",
      "WARNING:tensorflow:From C:\\Users\\Admin\\anaconda3\\Lib\\site-packages\\keras\\src\\utils\\tf_utils.py:492: The name tf.ragged.RaggedTensorValue is deprecated. Please use tf.compat.v1.ragged.RaggedTensorValue instead.\n",
      "\n",
      "WARNING:tensorflow:From C:\\Users\\Admin\\anaconda3\\Lib\\site-packages\\keras\\src\\engine\\base_layer_utils.py:384: The name tf.executing_eagerly_outside_functions is deprecated. Please use tf.compat.v1.executing_eagerly_outside_functions instead.\n",
      "\n",
      "4/4 [==============================] - 1s 55ms/step - loss: 1.2050 - accuracy: 0.2037 - val_loss: 1.1415 - val_accuracy: 0.1667\n",
      "Epoch 2/50\n",
      "4/4 [==============================] - 0s 11ms/step - loss: 1.1106 - accuracy: 0.3889 - val_loss: 1.0884 - val_accuracy: 0.3333\n",
      "Epoch 3/50\n",
      "4/4 [==============================] - 0s 11ms/step - loss: 1.0425 - accuracy: 0.5741 - val_loss: 1.0493 - val_accuracy: 0.6667\n",
      "Epoch 4/50\n",
      "4/4 [==============================] - 0s 10ms/step - loss: 0.9911 - accuracy: 0.6111 - val_loss: 1.0211 - val_accuracy: 0.6667\n",
      "Epoch 5/50\n",
      "4/4 [==============================] - 0s 8ms/step - loss: 0.9512 - accuracy: 0.6481 - val_loss: 0.9961 - val_accuracy: 0.6667\n",
      "Epoch 6/50\n",
      "4/4 [==============================] - 0s 8ms/step - loss: 0.9146 - accuracy: 0.6944 - val_loss: 0.9731 - val_accuracy: 0.6667\n",
      "Epoch 7/50\n",
      "4/4 [==============================] - 0s 9ms/step - loss: 0.8793 - accuracy: 0.7222 - val_loss: 0.9466 - val_accuracy: 0.8333\n",
      "Epoch 8/50\n",
      "4/4 [==============================] - 0s 7ms/step - loss: 0.8390 - accuracy: 0.7500 - val_loss: 0.9162 - val_accuracy: 0.8333\n",
      "Epoch 9/50\n",
      "4/4 [==============================] - 0s 9ms/step - loss: 0.7967 - accuracy: 0.7685 - val_loss: 0.8830 - val_accuracy: 0.9167\n",
      "Epoch 10/50\n",
      "4/4 [==============================] - 0s 6ms/step - loss: 0.7506 - accuracy: 0.7870 - val_loss: 0.8447 - val_accuracy: 0.9167\n",
      "Epoch 11/50\n",
      "4/4 [==============================] - 0s 9ms/step - loss: 0.7054 - accuracy: 0.8241 - val_loss: 0.8026 - val_accuracy: 0.9167\n",
      "Epoch 12/50\n",
      "4/4 [==============================] - 0s 7ms/step - loss: 0.6572 - accuracy: 0.7963 - val_loss: 0.7590 - val_accuracy: 0.8333\n",
      "Epoch 13/50\n",
      "4/4 [==============================] - 0s 8ms/step - loss: 0.6141 - accuracy: 0.7870 - val_loss: 0.7139 - val_accuracy: 0.8333\n",
      "Epoch 14/50\n",
      "4/4 [==============================] - 0s 6ms/step - loss: 0.5717 - accuracy: 0.7870 - val_loss: 0.6732 - val_accuracy: 0.7500\n",
      "Epoch 15/50\n",
      "4/4 [==============================] - 0s 6ms/step - loss: 0.5345 - accuracy: 0.7870 - val_loss: 0.6358 - val_accuracy: 0.7500\n",
      "Epoch 16/50\n",
      "4/4 [==============================] - 0s 11ms/step - loss: 0.5020 - accuracy: 0.7778 - val_loss: 0.6039 - val_accuracy: 0.6667\n",
      "Epoch 17/50\n",
      "4/4 [==============================] - 0s 11ms/step - loss: 0.4765 - accuracy: 0.7778 - val_loss: 0.5765 - val_accuracy: 0.6667\n",
      "Epoch 18/50\n",
      "4/4 [==============================] - 0s 5ms/step - loss: 0.4555 - accuracy: 0.7778 - val_loss: 0.5534 - val_accuracy: 0.6667\n",
      "Epoch 19/50\n",
      "4/4 [==============================] - 0s 12ms/step - loss: 0.4365 - accuracy: 0.7778 - val_loss: 0.5337 - val_accuracy: 0.6667\n",
      "Epoch 20/50\n",
      "4/4 [==============================] - 0s 4ms/step - loss: 0.4181 - accuracy: 0.7870 - val_loss: 0.5169 - val_accuracy: 0.6667\n",
      "Epoch 21/50\n",
      "4/4 [==============================] - 0s 8ms/step - loss: 0.4018 - accuracy: 0.7870 - val_loss: 0.5015 - val_accuracy: 0.7500\n",
      "Epoch 22/50\n",
      "4/4 [==============================] - 0s 6ms/step - loss: 0.3854 - accuracy: 0.8148 - val_loss: 0.4849 - val_accuracy: 0.8333\n",
      "Epoch 23/50\n",
      "4/4 [==============================] - 0s 8ms/step - loss: 0.3699 - accuracy: 0.8148 - val_loss: 0.4675 - val_accuracy: 0.8333\n",
      "Epoch 24/50\n",
      "4/4 [==============================] - 0s 10ms/step - loss: 0.3556 - accuracy: 0.8056 - val_loss: 0.4487 - val_accuracy: 0.8333\n",
      "Epoch 25/50\n",
      "4/4 [==============================] - 0s 6ms/step - loss: 0.3419 - accuracy: 0.8148 - val_loss: 0.4297 - val_accuracy: 0.9167\n",
      "Epoch 26/50\n",
      "4/4 [==============================] - 0s 10ms/step - loss: 0.3260 - accuracy: 0.8333 - val_loss: 0.4096 - val_accuracy: 0.9167\n",
      "Epoch 27/50\n",
      "4/4 [==============================] - 0s 6ms/step - loss: 0.3137 - accuracy: 0.8426 - val_loss: 0.3911 - val_accuracy: 0.9167\n",
      "Epoch 28/50\n",
      "4/4 [==============================] - 0s 10ms/step - loss: 0.3011 - accuracy: 0.8519 - val_loss: 0.3786 - val_accuracy: 0.9167\n",
      "Epoch 29/50\n",
      "4/4 [==============================] - 0s 6ms/step - loss: 0.2842 - accuracy: 0.8796 - val_loss: 0.3653 - val_accuracy: 0.9167\n",
      "Epoch 30/50\n",
      "4/4 [==============================] - 0s 8ms/step - loss: 0.2712 - accuracy: 0.8981 - val_loss: 0.3583 - val_accuracy: 0.9167\n",
      "Epoch 31/50\n",
      "4/4 [==============================] - 0s 8ms/step - loss: 0.2574 - accuracy: 0.9167 - val_loss: 0.3527 - val_accuracy: 0.9167\n",
      "Epoch 32/50\n",
      "4/4 [==============================] - 0s 8ms/step - loss: 0.2476 - accuracy: 0.9352 - val_loss: 0.3481 - val_accuracy: 0.9167\n",
      "Epoch 33/50\n",
      "4/4 [==============================] - 0s 8ms/step - loss: 0.2348 - accuracy: 0.9352 - val_loss: 0.3325 - val_accuracy: 0.9167\n",
      "Epoch 34/50\n",
      "4/4 [==============================] - 0s 7ms/step - loss: 0.2224 - accuracy: 0.9352 - val_loss: 0.3201 - val_accuracy: 0.9167\n",
      "Epoch 35/50\n",
      "4/4 [==============================] - 0s 8ms/step - loss: 0.2144 - accuracy: 0.9259 - val_loss: 0.3068 - val_accuracy: 0.9167\n",
      "Epoch 36/50\n",
      "4/4 [==============================] - 0s 8ms/step - loss: 0.2053 - accuracy: 0.9167 - val_loss: 0.3046 - val_accuracy: 0.9167\n",
      "Epoch 37/50\n",
      "4/4 [==============================] - 0s 9ms/step - loss: 0.1937 - accuracy: 0.9352 - val_loss: 0.3056 - val_accuracy: 0.9167\n",
      "Epoch 38/50\n",
      "4/4 [==============================] - 0s 6ms/step - loss: 0.1837 - accuracy: 0.9630 - val_loss: 0.3093 - val_accuracy: 0.9167\n",
      "Epoch 39/50\n",
      "4/4 [==============================] - 0s 10ms/step - loss: 0.1763 - accuracy: 0.9630 - val_loss: 0.3162 - val_accuracy: 0.9167\n",
      "Epoch 40/50\n",
      "4/4 [==============================] - 0s 6ms/step - loss: 0.1687 - accuracy: 0.9630 - val_loss: 0.3135 - val_accuracy: 0.9167\n",
      "Epoch 41/50\n",
      "4/4 [==============================] - 0s 8ms/step - loss: 0.1606 - accuracy: 0.9630 - val_loss: 0.3036 - val_accuracy: 0.9167\n",
      "Epoch 42/50\n",
      "4/4 [==============================] - 0s 10ms/step - loss: 0.1522 - accuracy: 0.9537 - val_loss: 0.2845 - val_accuracy: 0.9167\n",
      "Epoch 43/50\n",
      "4/4 [==============================] - 0s 5ms/step - loss: 0.1472 - accuracy: 0.9630 - val_loss: 0.2747 - val_accuracy: 0.9167\n",
      "Epoch 44/50\n",
      "4/4 [==============================] - 0s 11ms/step - loss: 0.1418 - accuracy: 0.9630 - val_loss: 0.2730 - val_accuracy: 0.9167\n",
      "Epoch 45/50\n",
      "4/4 [==============================] - 0s 5ms/step - loss: 0.1341 - accuracy: 0.9630 - val_loss: 0.2904 - val_accuracy: 0.9167\n",
      "Epoch 46/50\n",
      "4/4 [==============================] - 0s 6ms/step - loss: 0.1299 - accuracy: 0.9444 - val_loss: 0.3336 - val_accuracy: 0.9167\n",
      "Epoch 47/50\n",
      "4/4 [==============================] - 0s 11ms/step - loss: 0.1282 - accuracy: 0.9630 - val_loss: 0.3458 - val_accuracy: 0.9167\n",
      "Epoch 48/50\n",
      "4/4 [==============================] - 0s 6ms/step - loss: 0.1203 - accuracy: 0.9630 - val_loss: 0.3219 - val_accuracy: 0.9167\n",
      "Epoch 49/50\n",
      "4/4 [==============================] - 0s 11ms/step - loss: 0.1156 - accuracy: 0.9630 - val_loss: 0.2982 - val_accuracy: 0.9167\n",
      "Epoch 50/50\n",
      "4/4 [==============================] - 0s 10ms/step - loss: 0.1124 - accuracy: 0.9630 - val_loss: 0.3110 - val_accuracy: 0.9167\n"
     ]
    }
   ],
   "source": [
    "history = dnn.fit(xtrains,ytrain,epochs=50,batch_size=32,validation_split=0.1)"
   ]
  },
  {
   "cell_type": "code",
   "execution_count": 9,
   "id": "0d0823aa",
   "metadata": {},
   "outputs": [
    {
     "name": "stdout",
     "output_type": "stream",
     "text": [
      "1/1 [==============================] - 0s 17ms/step - loss: 0.1056 - accuracy: 0.9667\n",
      "test accuracy: 0.9666666388511658\n"
     ]
    }
   ],
   "source": [
    "loss,accuracy=dnn.evaluate(xtests,ytest)\n",
    "print(f'test accuracy: {accuracy}')"
   ]
  },
  {
   "cell_type": "code",
   "execution_count": 10,
   "id": "db31e569",
   "metadata": {},
   "outputs": [
    {
     "data": {
      "image/png": "[encoded data removed]",
      "text/plain": [
       "<Figure size 640x480 with 1 Axes>"
      ]
     },
     "metadata": {},
     "output_type": "display_data"
    }
   ],
   "source": [
    "plt.plot(history.history['accuracy'])\n",
    "plt.plot(history.history['val_loss'])\n",
    "plt.title('model loss')\n",
    "plt.ylabel('loss')\n",
    "plt.xlabel('epoch')\n",
    "plt.legend(['train','validation'],loc='upper left')\n",
    "plt.show()"
   ]
  },
  {
   "cell_type": "code",
   "execution_count": null,
   "id": "9d849bf5",
   "metadata": {},
   "outputs": [],
   "source": []
  }
 ],
 "metadata": {
  "kernelspec": {
   "display_name": "Python 3 (ipykernel)",
   "language": "python",
   "name": "python3"
  },
  "language_info": {
   "codemirror_mode": {
    "name": "ipython",
    "version": 3
   },
   "file_extension": ".py",
   "mimetype": "text/x-python",
   "name": "python",
   "nbconvert_exporter": "python",
   "pygments_lexer": "ipython3",
   "version": "3.11.3"
  }
 },
 "nbformat": 4,
 "nbformat_minor": 5
}
